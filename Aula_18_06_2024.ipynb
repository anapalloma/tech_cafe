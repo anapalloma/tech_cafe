{
  "nbformat": 4,
  "nbformat_minor": 0,
  "metadata": {
    "colab": {
      "provenance": [],
      "authorship_tag": "ABX9TyNN/ZmK57MGVQOqfWFzfuLm",
      "include_colab_link": true
    },
    "kernelspec": {
      "name": "python3",
      "display_name": "Python 3"
    },
    "language_info": {
      "name": "python"
    }
  },
  "cells": [
    {
      "cell_type": "markdown",
      "metadata": {
        "id": "view-in-github",
        "colab_type": "text"
      },
      "source": [
        "<a href=\"https://colab.research.google.com/github/anapalloma/tech_cafe/blob/main/Aula_18_06_2024.ipynb\" target=\"_parent\"><img src=\"https://colab.research.google.com/assets/colab-badge.svg\" alt=\"Open In Colab\"/></a>"
      ]
    },
    {
      "cell_type": "markdown",
      "source": [
        "# **Conceitos de computação: algoritmos e programação**"
      ],
      "metadata": {
        "id": "xP8gFHAPfqWY"
      }
    },
    {
      "cell_type": "markdown",
      "source": [
        "**ALGORITMOS** <br> <br>\n",
        "Computador não pensa sozinho...\n",
        "*   Precisa receber instruções explicítas.\n",
        "*   Algoritmos\n",
        "  * Sequência de instruções.\n",
        "\n"
      ],
      "metadata": {
        "id": "bF1TsRyDg2s5"
      }
    },
    {
      "cell_type": "markdown",
      "source": [
        "Todo algoritmo precisa ter quatro qualidades:\n",
        "  1.   Cada passo do algoritmo deve ser uma instrução que\n",
        "possa ser realizada (codificada no computador).\n",
        "  2.   A ordem dos passos deve ser precisamente\n",
        "determinada.\n",
        "  3. O algoritmo deve ter fim (terminar).\n",
        "  4. O algoritmo deve ter um fim (uma utilidade/um\n",
        "objetivo).\n",
        "\n",
        "\n",
        "\n"
      ],
      "metadata": {
        "id": "m599793OhQ__"
      }
    },
    {
      "cell_type": "code",
      "source": [],
      "metadata": {
        "id": "F0w50GEugxVq"
      },
      "execution_count": null,
      "outputs": []
    }
  ]
}