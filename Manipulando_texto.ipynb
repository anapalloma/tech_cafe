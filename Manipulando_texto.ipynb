{
  "nbformat": 4,
  "nbformat_minor": 0,
  "metadata": {
    "colab": {
      "provenance": [],
      "authorship_tag": "ABX9TyPf9XAngLt69bJ25ApB+kNg",
      "include_colab_link": true
    },
    "kernelspec": {
      "name": "python3",
      "display_name": "Python 3"
    },
    "language_info": {
      "name": "python"
    }
  },
  "cells": [
    {
      "cell_type": "markdown",
      "metadata": {
        "id": "view-in-github",
        "colab_type": "text"
      },
      "source": [
        "<a href=\"https://colab.research.google.com/github/anapalloma/tech_cafe/blob/main/Manipulando_texto.ipynb\" target=\"_parent\"><img src=\"https://colab.research.google.com/assets/colab-badge.svg\" alt=\"Open In Colab\"/></a>"
      ]
    },
    {
      "cell_type": "markdown",
      "source": [
        "# **NA AULA PASSADA...**"
      ],
      "metadata": {
        "id": "68dQkBqzTtbM"
      }
    },
    {
      "cell_type": "markdown",
      "source": [
        "# **Operadores, entrada e saída**"
      ],
      "metadata": {
        "id": "JAW2DBJ_LF5j"
      }
    },
    {
      "cell_type": "markdown",
      "source": [
        "**Palavras reservadas**"
      ],
      "metadata": {
        "id": "QBTTUEmjROBC"
      }
    },
    {
      "cell_type": "markdown",
      "source": [
        "➔ Não pode ser empregada qualquer uma das palavras\n",
        "reservadas à linguagem Python como identificadores"
      ],
      "metadata": {
        "id": "2rGg5rj2RQlW"
      }
    },
    {
      "cell_type": "markdown",
      "source": [
        "➔ and, as, assert, break, class, continue, def, del, elif, else,except, False, finally, for, from, global, if, import, in, is,lambda, None, nonlocal, not, or, pass, raise, return, True, try, while, with, yield."
      ],
      "metadata": {
        "id": "HyHgEFWXRURE"
      }
    },
    {
      "cell_type": "markdown",
      "source": [
        "**Tipos de dados**"
      ],
      "metadata": {
        "id": "dB3dh0i3Rqu9"
      }
    },
    {
      "cell_type": "markdown",
      "source": [
        "➔ O tipo de uma variável define os valores que ela pode\n",
        "assumir e as operações que podem ser realizadas com ela. Em outras palavras, descreve a natureza da informação. <br>\n",
        "➔ Ex:<br>\n",
        "◆ Variáveis tipo **int** recebem apenas valores inteiros. <br>\n",
        "◆ Variáveis tipo **float** armazenam apenas valores reais. <br>\n",
        "◆ Variáveis tipo **str** armazenam textos (strings).<br>"
      ],
      "metadata": {
        "id": "QIK3_1OaR1er"
      }
    },
    {
      "cell_type": "markdown",
      "source": [
        "Como saber o tipo? <br>\n",
        "➔ Pergunte ao python"
      ],
      "metadata": {
        "id": "BWo9chJrSS56"
      }
    },
    {
      "cell_type": "code",
      "source": [
        "nome = 'Ana Palloma'\n",
        "type(nome)"
      ],
      "metadata": {
        "id": "HXRyyM2kSXs9"
      },
      "execution_count": null,
      "outputs": []
    },
    {
      "cell_type": "markdown",
      "source": [
        "**Operadores Aritméticos**"
      ],
      "metadata": {
        "id": "JcwduPDgTOXE"
      }
    },
    {
      "cell_type": "code",
      "source": [
        "+  # Adição\n",
        "-  # Subtração\n",
        "*  # Multiplicação\n",
        "/  # Divisão\n",
        "// # Divisão inteira\n",
        "** # Exponenciação\n",
        "% # Resto da divisão"
      ],
      "metadata": {
        "id": "an4K4aTPTUt4"
      },
      "execution_count": null,
      "outputs": []
    },
    {
      "cell_type": "markdown",
      "source": [
        "**Operadores relacionais**"
      ],
      "metadata": {
        "id": "Ccp3ruEGS3Rb"
      }
    },
    {
      "cell_type": "code",
      "source": [
        " > #Maior que\n",
        " < #Menor que\n",
        " >= #Maior ou igual que\n",
        " <= #Menor ou igual que\n",
        " != #Diferente de\n",
        " == #Igual a"
      ],
      "metadata": {
        "id": "lbC3gFmIS5OX"
      },
      "execution_count": null,
      "outputs": []
    },
    {
      "cell_type": "markdown",
      "source": [
        "**Operadores lógicos**"
      ],
      "metadata": {
        "id": "gNo0SOEtS8VM"
      }
    },
    {
      "cell_type": "markdown",
      "source": [
        "NOT - Negação lógica"
      ],
      "metadata": {
        "id": "ONh-agQJTBor"
      }
    },
    {
      "cell_type": "code",
      "source": [
        "a = 5\n",
        "b = 7\n",
        "not a == b"
      ],
      "metadata": {
        "id": "DDKg20YqTcmM"
      },
      "execution_count": null,
      "outputs": []
    },
    {
      "cell_type": "markdown",
      "source": [
        "AND - E lógico"
      ],
      "metadata": {
        "id": "msHYJJuFTCUs"
      }
    },
    {
      "cell_type": "code",
      "source": [
        "(2 == 2) and (3 == 1 +2)"
      ],
      "metadata": {
        "id": "6nQoz1t5TaIu"
      },
      "execution_count": null,
      "outputs": []
    },
    {
      "cell_type": "markdown",
      "source": [
        "OR - Ou lógico"
      ],
      "metadata": {
        "id": "fJtxNluxTL9L"
      }
    },
    {
      "cell_type": "code",
      "source": [
        "(3 == 2) or (4 == 2 + 2)"
      ],
      "metadata": {
        "id": "Mi7mnYeiTWqs"
      },
      "execution_count": null,
      "outputs": []
    },
    {
      "cell_type": "markdown",
      "source": [
        "**Operadores de atribuição**"
      ],
      "metadata": {
        "id": "y-26XEGzKf-G"
      }
    },
    {
      "cell_type": "markdown",
      "source": [
        "Forma geral: <br>\n",
        "◆ variavel = expressao ou constante<br>\n",
        "➔ Armazena o conteúdo à direita no elemento à esquerda: <br>"
      ],
      "metadata": {
        "id": "1SboZRjgKjuv"
      }
    },
    {
      "cell_type": "code",
      "execution_count": null,
      "metadata": {
        "id": "y0DHPi_FKJaF"
      },
      "outputs": [],
      "source": [
        "salario_minimo = 1500.00"
      ]
    },
    {
      "cell_type": "markdown",
      "source": [
        "Múltiplas atribuições (todos recebem o mesmo valor)"
      ],
      "metadata": {
        "id": "HEWnqu2XK9l9"
      }
    },
    {
      "cell_type": "code",
      "source": [
        "x = y = z = 0"
      ],
      "metadata": {
        "id": "pN0oEdXXK1Or"
      },
      "execution_count": null,
      "outputs": []
    },
    {
      "cell_type": "markdown",
      "source": [
        "Atribuição + Operador"
      ],
      "metadata": {
        "id": "qidak88JLKCt"
      }
    },
    {
      "cell_type": "code",
      "source": [
        "x += 5"
      ],
      "metadata": {
        "id": "cVzYhiqbLIfS"
      },
      "execution_count": null,
      "outputs": []
    },
    {
      "cell_type": "markdown",
      "source": [
        "**Entrada e saída de dados**"
      ],
      "metadata": {
        "id": "N0rmEasJLnqr"
      }
    },
    {
      "cell_type": "markdown",
      "source": [
        "➔ input() # Sempre lê dados como str (string)"
      ],
      "metadata": {
        "id": "MkVNYpP7Ltw_"
      }
    },
    {
      "cell_type": "code",
      "source": [
        "a = input('Valor de a: ')\n",
        "b = input ('Valor de b: ')"
      ],
      "metadata": {
        "id": "D6YALXnnLqXK"
      },
      "execution_count": null,
      "outputs": []
    },
    {
      "cell_type": "markdown",
      "source": [
        "➔ Para converter em outros tipos, usar conversão explícita:"
      ],
      "metadata": {
        "id": "vii7Akw6L8Qz"
      }
    },
    {
      "cell_type": "code",
      "source": [
        "c = int(a) + int(b)"
      ],
      "metadata": {
        "id": "QxY9aj8oMAXw"
      },
      "execution_count": null,
      "outputs": []
    },
    {
      "cell_type": "code",
      "source": [
        "a = float(input('Valor de a: '))"
      ],
      "metadata": {
        "id": "Uo0yoezzMMd_"
      },
      "execution_count": null,
      "outputs": []
    },
    {
      "cell_type": "markdown",
      "source": [
        "➔ Pode-se exibir os resultados com\n",
        "print( )"
      ],
      "metadata": {
        "id": "tvZT5kpyMVf2"
      }
    },
    {
      "cell_type": "code",
      "source": [
        "a = 'batata'\n",
        "print(a)"
      ],
      "metadata": {
        "id": "iOe7_OPoMdda"
      },
      "execution_count": null,
      "outputs": []
    },
    {
      "cell_type": "code",
      "source": [
        "b = 132\n",
        "print(b)"
      ],
      "metadata": {
        "id": "EtOB54f8Ml9o"
      },
      "execution_count": null,
      "outputs": []
    },
    {
      "cell_type": "markdown",
      "source": [
        "# **MANIPULANDO TEXTO**"
      ],
      "metadata": {
        "id": "gx_aWNDuoqt5"
      }
    },
    {
      "cell_type": "code",
      "source": [
        "frase = 'Curso de Programação'"
      ],
      "metadata": {
        "id": "Sz1FPs3Ku8dW"
      },
      "execution_count": null,
      "outputs": []
    },
    {
      "cell_type": "markdown",
      "source": [
        "![image.png](data:image/png;base64,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)"
      ],
      "metadata": {
        "id": "JAYYjyn1wiSt"
      }
    },
    {
      "cell_type": "markdown",
      "source": [
        "- O Python cria \"mini espaços\" na memória do computador para guardar cada um dos caracteres (incluindo espaços).<br>\n",
        "- Cada umini espaço recebe um índice."
      ],
      "metadata": {
        "id": "QKvFHVyjw1TP"
      }
    },
    {
      "cell_type": "markdown",
      "source": [
        "**FATIAMENTO**"
      ],
      "metadata": {
        "id": "Iz6ibVhGxjr5"
      }
    },
    {
      "cell_type": "code",
      "source": [
        "frase[9] # Retorna o caracter na 9º posição"
      ],
      "metadata": {
        "id": "vzT_juW_xOW_"
      },
      "execution_count": null,
      "outputs": []
    },
    {
      "cell_type": "code",
      "source": [
        "frase[9:19] #Retorna o intervalo de caracteres da posição 9 até 19-1"
      ],
      "metadata": {
        "id": "O3EtNEjIyQ2n"
      },
      "execution_count": null,
      "outputs": []
    },
    {
      "cell_type": "code",
      "source": [
        "frase[9:19:2] # string[início:fim:passo]"
      ],
      "metadata": {
        "id": "v1M8Fdip1fFA"
      },
      "execution_count": null,
      "outputs": []
    },
    {
      "cell_type": "code",
      "source": [
        "frase[:5] # Do ínicio até a posição 5-1"
      ],
      "metadata": {
        "id": "zLn5OTu12ISB"
      },
      "execution_count": null,
      "outputs": []
    },
    {
      "cell_type": "code",
      "source": [
        "frase[9:] # Da posição 9 até o final"
      ],
      "metadata": {
        "id": "ZjTDZsBa2hvw"
      },
      "execution_count": null,
      "outputs": []
    },
    {
      "cell_type": "code",
      "source": [
        "frase[9::3]"
      ],
      "metadata": {
        "id": "GzUkTfyQ217i"
      },
      "execution_count": null,
      "outputs": []
    },
    {
      "cell_type": "code",
      "source": [
        "frase[9:]"
      ],
      "metadata": {
        "id": "nFBirNOuylL5"
      },
      "execution_count": null,
      "outputs": []
    },
    {
      "cell_type": "markdown",
      "source": [
        "**Acessando caracteres por um número de índice negativo**"
      ],
      "metadata": {
        "id": "-I-OQiCZ0T6l"
      }
    },
    {
      "cell_type": "markdown",
      "source": [
        "![image.png](data:image/png;base64,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)"
      ],
      "metadata": {
        "id": "i6zE5PNd0WEQ"
      }
    },
    {
      "cell_type": "code",
      "source": [
        "frase[-11:]"
      ],
      "metadata": {
        "id": "ClJVTcvw0fVi"
      },
      "execution_count": null,
      "outputs": []
    },
    {
      "cell_type": "markdown",
      "source": [
        "**ANÁLISE**"
      ],
      "metadata": {
        "id": "UdqSyAqZ3ZHi"
      }
    },
    {
      "cell_type": "code",
      "source": [
        "len(frase) # Retorna o comprimento da frase"
      ],
      "metadata": {
        "id": "AHWWcpbe3fzQ"
      },
      "execution_count": null,
      "outputs": []
    },
    {
      "cell_type": "code",
      "source": [
        "frase.count('o') # Retorna quantas vezes aparece a letra o (minúscula)"
      ],
      "metadata": {
        "id": "MiWBf-Jr4KdW"
      },
      "execution_count": null,
      "outputs": []
    },
    {
      "cell_type": "code",
      "source": [
        "frase.count('r', 0 , 14 ) # Contagem com fatiamento"
      ],
      "metadata": {
        "id": "KOUCnqTC4eoD"
      },
      "execution_count": null,
      "outputs": []
    },
    {
      "cell_type": "code",
      "source": [
        "frase.find('de') # Retorna em que posição ele encontrou a expressão 'de' (o início)"
      ],
      "metadata": {
        "id": "R7Pddvvj5l0L"
      },
      "execution_count": null,
      "outputs": []
    },
    {
      "cell_type": "code",
      "source": [
        "'Curso' in frase"
      ],
      "metadata": {
        "id": "xNS5ghVN6K0C"
      },
      "execution_count": null,
      "outputs": []
    },
    {
      "cell_type": "markdown",
      "source": [
        "**TRANSFORMAÇÃO**"
      ],
      "metadata": {
        "id": "6T6NDH9y6ie2"
      }
    },
    {
      "cell_type": "code",
      "source": [
        "frase.replace('Programação', 'Python') # Procura por 'Programação' e substitui por 'Python' na frase"
      ],
      "metadata": {
        "id": "BdXzKKCi6Y9a"
      },
      "execution_count": null,
      "outputs": []
    },
    {
      "cell_type": "code",
      "source": [
        "frase.upper() # Retorna toda a frase em letras maiúsculas"
      ],
      "metadata": {
        "id": "ML5SmMe57TEX"
      },
      "execution_count": null,
      "outputs": []
    },
    {
      "cell_type": "code",
      "source": [
        "frase.lower() # Transforma em letras minúsculas"
      ],
      "metadata": {
        "id": "8qY8RUoL7pS4"
      },
      "execution_count": null,
      "outputs": []
    },
    {
      "cell_type": "code",
      "source": [
        "frase.capitalize() # Joga tudo pra minúsculo, exceto o primeiro caractere"
      ],
      "metadata": {
        "id": "bu4zOA1T75Yp"
      },
      "execution_count": null,
      "outputs": []
    },
    {
      "cell_type": "code",
      "source": [
        "frase.title() # Põe todas as palavras começando com letra maiúscula"
      ],
      "metadata": {
        "id": "7cmkEbso8L_f"
      },
      "execution_count": null,
      "outputs": []
    },
    {
      "cell_type": "code",
      "source": [
        "frase.strip() # Remove todos os espaços inúteis noo início e no final da string"
      ],
      "metadata": {
        "id": "hp5VAV8P8sHH"
      },
      "execution_count": null,
      "outputs": []
    },
    {
      "cell_type": "code",
      "source": [
        "frase.rstrip() # Remove todos espaços inúteis à direita, após a frase"
      ],
      "metadata": {
        "id": "TGUJB-J287ba"
      },
      "execution_count": null,
      "outputs": []
    },
    {
      "cell_type": "code",
      "source": [
        "frase.lstrip() # Remove todos espaços inúteis à esquerda, no início da frase"
      ],
      "metadata": {
        "id": "MsJFQIoH9OdN"
      },
      "execution_count": null,
      "outputs": []
    },
    {
      "cell_type": "markdown",
      "source": [
        "**DIVISÃO**"
      ],
      "metadata": {
        "id": "j1Sve7_o9bhj"
      }
    },
    {
      "cell_type": "code",
      "source": [
        "frase.split() # Retorna uma divisão dentro da string, considerando os espaços"
      ],
      "metadata": {
        "id": "wMgwtVAF9ea4"
      },
      "execution_count": null,
      "outputs": []
    },
    {
      "cell_type": "markdown",
      "source": [
        "**JUNÇÃO**"
      ],
      "metadata": {
        "id": "JAS81U-0985D"
      }
    },
    {
      "cell_type": "code",
      "source": [
        "lista = frase.split()"
      ],
      "metadata": {
        "id": "2V1-ocNA-Ajg"
      },
      "execution_count": null,
      "outputs": []
    },
    {
      "cell_type": "code",
      "source": [
        "lista"
      ],
      "metadata": {
        "id": "yDRTmdiO-D7r"
      },
      "execution_count": null,
      "outputs": []
    },
    {
      "cell_type": "code",
      "source": [
        "'-'.join(lista) # Junta todos os elementos da frase, usando o separador"
      ],
      "metadata": {
        "id": "FDccpONs-Fhr"
      },
      "execution_count": null,
      "outputs": []
    },
    {
      "cell_type": "markdown",
      "source": [
        "➔ Além do exposto, existem\n",
        "caracteres especiais na impressão:"
      ],
      "metadata": {
        "id": "k6Sr6LQ5M4uN"
      }
    },
    {
      "cell_type": "markdown",
      "source": [
        "◆ ‘\\n’ pula uma linha <br>\n",
        "◆ ‘\\t’ tab <br>\n",
        "◆ ‘\\\\’ backslash (Se você deseja imprimir uma barra invertida em Python, precisa usar uma barra invertida dupla dentro da string.)<br>\n",
        "◆ ‘\\’’ aspas simples - ‘\\”’ aspas duplas <br>"
      ],
      "metadata": {
        "id": "V5jB9jiBM-He"
      }
    },
    {
      "cell_type": "code",
      "source": [
        "print('Ana Palloma é \\'fofa\\'?')"
      ],
      "metadata": {
        "id": "mCV4az_8M5th"
      },
      "execution_count": null,
      "outputs": []
    },
    {
      "cell_type": "markdown",
      "source": [
        "**Strings**"
      ],
      "metadata": {
        "id": "M_ZpPG03OnfG"
      }
    },
    {
      "cell_type": "markdown",
      "source": [
        "➔ Sequência de caracteres em uma espécie de vetor ou lista <br>\n",
        "◆ Um ao lado do outro. <br>\n",
        "◆ Começando do índice 0, todas as letras podem ser\n",
        "acessadas com colchetes após a string. <br>\n",
        "◆ Tamanho pode ser dado por “len(a)”. <br>"
      ],
      "metadata": {
        "id": "vofi5VppOtJp"
      }
    },
    {
      "cell_type": "markdown",
      "source": [
        "**Operações em strings**"
      ],
      "metadata": {
        "id": "NFlKcGzOPttk"
      }
    },
    {
      "cell_type": "markdown",
      "source": [
        "➔ Comparação: verifica caractere por caractere..."
      ],
      "metadata": {
        "id": "TSF41868PwDU"
      }
    },
    {
      "cell_type": "code",
      "source": [
        "'Ana' > 'Palloma'"
      ],
      "metadata": {
        "id": "RSzNZV3pPzC7"
      },
      "execution_count": null,
      "outputs": []
    },
    {
      "cell_type": "code",
      "source": [
        "'Ana' + 'Palloma'"
      ],
      "metadata": {
        "id": "dzhPvEKKQDMe"
      },
      "execution_count": null,
      "outputs": []
    },
    {
      "cell_type": "markdown",
      "source": [
        "➔ '*' repete 'x' vezes uma string"
      ],
      "metadata": {
        "id": "216b2ksMQhsL"
      }
    },
    {
      "cell_type": "code",
      "source": [
        "'Ana' * 3"
      ],
      "metadata": {
        "id": "v9AQw5gVQkqb"
      },
      "execution_count": null,
      "outputs": []
    },
    {
      "cell_type": "markdown",
      "source": [],
      "metadata": {
        "id": "qeLQEURgumEf"
      }
    },
    {
      "cell_type": "markdown",
      "source": [
        "# **DESAFIOS - MANIPULAÇÃO DE TEXTOS**"
      ],
      "metadata": {
        "id": "xf-K8RF8TzJ3"
      }
    },
    {
      "cell_type": "markdown",
      "source": [
        "**Desafio 11** - Crie um programa que leia o nome completo de uma pessoa e mostre: <br>\n",
        "- O nome com todas as letras maiúsculas e minúsculas.<br>\n",
        "- O nome com todas as letras minúsculas.<br>\n",
        "- Quantas letras ao todos (sem considerar espaços).\n",
        "- Quantas letras tem o primeiro nome."
      ],
      "metadata": {
        "id": "KnKIC-YKnW_6"
      }
    },
    {
      "cell_type": "markdown",
      "source": [
        "**Desafio 12** - Faça um programa que leia um número de 0 a 9999 e mostre na tela cada um dos dígitos separados. <br>\n",
        "\n",
        "Exemplo:<br>\n",
        "**Digite um número: 1834<br>**\n",
        "Unidade: 4 <br>\n",
        "Dezena: 3 <br>\n",
        "Centena: 8 <br>\n",
        "Milhar: 1 <br>"
      ],
      "metadata": {
        "id": "MrgUPwdLoFtS"
      }
    },
    {
      "cell_type": "markdown",
      "source": [
        "**Desafio 13** - Crie um programa que leia o nome de uma cidade e diga se ela começa ou não com o nome \"SANTO\"."
      ],
      "metadata": {
        "id": "yv3xV_Fcprsi"
      }
    },
    {
      "cell_type": "markdown",
      "source": [
        "**Desafio 14** - Faça um programa que leia uma frase pelo teclado e mostre:\n",
        "\n",
        "- Quantas vezes aparece a letra \"a\".<br>\n",
        "- Em que posição ela aparece a primeira vez. <br>\n",
        "- Em que posição ela aparece a última vez."
      ],
      "metadata": {
        "id": "9gS5F0T4qBY7"
      }
    }
  ]
}